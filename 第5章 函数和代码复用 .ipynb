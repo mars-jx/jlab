{
 "cells": [
  {
   "cell_type": "markdown",
   "metadata": {},
   "source": [
    "# 函数的基本使用"
   ]
  },
  {
   "cell_type": "markdown",
   "metadata": {},
   "source": [
    "<font size=3.5 color=darkbrown face=“微软雅黑”>计算以下学生（A,B,C）三门课程（外语、高数、计算机）的平均成绩；<br><br>A（90，85，75），B（80，85，85），C（60，70，65）。<br><br>要求：同时输出三个平均成绩，输出格式为：<br><br>A的平均成绩为X<br>B的平均成绩为X<br>C的平均成绩为X<br>其中，X为待计算的平均成绩。</font>"
   ]
  },
  {
   "cell_type": "code",
   "execution_count": 13,
   "metadata": {},
   "outputs": [],
   "source": [
    "def avg_grade(name,x,y,z):\n",
    "    avg = round((x+y+z)/3,2)\n",
    "    print('{}的平均成绩为{}'.format(name,avg))"
   ]
  },
  {
   "cell_type": "code",
   "execution_count": 17,
   "metadata": {},
   "outputs": [
    {
     "name": "stdout",
     "output_type": "stream",
     "text": [
      "A的平均成绩为83.33\n"
     ]
    },
    {
     "ename": "TypeError",
     "evalue": "avg_grade() missing 1 required positional argument: 'z'",
     "output_type": "error",
     "traceback": [
      "\u001b[1;31m---------------------------------------------------------------------------\u001b[0m",
      "\u001b[1;31mTypeError\u001b[0m                                 Traceback (most recent call last)",
      "\u001b[1;32m<ipython-input-17-cdbbbc1ecc58>\u001b[0m in \u001b[0;36m<module>\u001b[1;34m()\u001b[0m\n\u001b[0;32m      1\u001b[0m \u001b[0mavg_grade\u001b[0m\u001b[1;33m(\u001b[0m\u001b[1;34m'A'\u001b[0m\u001b[1;33m,\u001b[0m\u001b[1;36m90\u001b[0m\u001b[1;33m,\u001b[0m\u001b[1;36m85\u001b[0m\u001b[1;33m,\u001b[0m\u001b[1;36m75\u001b[0m\u001b[1;33m)\u001b[0m\u001b[1;33m\u001b[0m\u001b[0m\n\u001b[1;32m----> 2\u001b[1;33m \u001b[0mavg_grade\u001b[0m\u001b[1;33m(\u001b[0m\u001b[1;34m'B'\u001b[0m\u001b[1;33m,\u001b[0m\u001b[1;36m80\u001b[0m\u001b[1;33m,\u001b[0m\u001b[1;36m85\u001b[0m\u001b[1;33m)\u001b[0m\u001b[1;33m\u001b[0m\u001b[0m\n\u001b[0m",
      "\u001b[1;31mTypeError\u001b[0m: avg_grade() missing 1 required positional argument: 'z'"
     ]
    }
   ],
   "source": [
    "avg_grade('A',90,85,75)\n",
    "avg_grade('B',80,85)"
   ]
  },
  {
   "cell_type": "markdown",
   "metadata": {},
   "source": [
    "## 函数的定义"
   ]
  },
  {
   "cell_type": "markdown",
   "metadata": {},
   "source": [
    "<font size=3.5 color=blue face=“微软雅黑”>函数是一段具有特定功能的、可重用的语句组，通过函数名来表示和调用。经过定义，一组语句等价于一个函数，在需要使用这组语句的地方，直接调用函数名称即可。</font>"
   ]
  },
  {
   "cell_type": "markdown",
   "metadata": {},
   "source": [
    "<td bgcolor=orange><font size=3 face=\"微软雅黑\"> * 函数的使用包括两部分：函数的定义和函数的使用。</font></td>"
   ]
  },
  {
   "cell_type": "markdown",
   "metadata": {},
   "source": [
    "<td bgcolor=orange><font size=3 face=\"微软雅黑\"> * 函数是一种功能抽象。</font></td>"
   ]
  },
  {
   "cell_type": "markdown",
   "metadata": {},
   "source": [
    "<font size=3.5 color=blue face=“微软雅黑”>（1）函数的定义</font >"
   ]
  },
  {
   "cell_type": "markdown",
   "metadata": {},
   "source": [
    "<font size=3 color=darkorange face=\"微软雅黑\"> def <函数名>(<参数列表>): <br><br>  &ensp;&ensp;&ensp;&ensp;<函数体><br> <br> return <返回值列表></font>"
   ]
  },
  {
   "cell_type": "markdown",
   "metadata": {},
   "source": [
    "<font size=3.5 color=darkblue face=“微软雅黑”>\\* 函数名可以是任何有效的Python标识符。<br><br>\n",
    "\\* 参数列表是调用该函数时传递给它的值，可以有零个、一个或多个，当传递多个参数时各参数由逗号分隔，当没有参数时也要保留圆括号。<br><br>\n",
    "\\* 函数体是函数每次被调用时执行的代码，由一行或多行语句组成。<br><br>\n",
    "\\* 如果需要返回值，使用保留字return和返回值列表。函数可以没有return语句，函数体结束后会将控制权返回给调用者。\n",
    "</font>"
   ]
  },
  {
   "cell_type": "code",
   "execution_count": 3,
   "metadata": {},
   "outputs": [
    {
     "name": "stdout",
     "output_type": "stream",
     "text": [
      "3 4\n"
     ]
    }
   ],
   "source": [
    "def add(a,b):\n",
    "    c = 0\n",
    "    c = a + b\n",
    "    return c\n",
    "m = add(1,3)\n",
    "print (add(1,2),m)"
   ]
  },
  {
   "cell_type": "code",
   "execution_count": 7,
   "metadata": {},
   "outputs": [],
   "source": [
    "def add1(a,b):\n",
    "    c = 0\n",
    "    c = a + b\n",
    "    print ('c',c)\n",
    "    return c"
   ]
  },
  {
   "cell_type": "code",
   "execution_count": 8,
   "metadata": {},
   "outputs": [
    {
     "name": "stdout",
     "output_type": "stream",
     "text": [
      "函数开始执行\n",
      "c 3\n",
      "m 3\n"
     ]
    }
   ],
   "source": [
    "print('函数开始执行')\n",
    "x,y = 1,2\n",
    "m = add1(x,y)\n",
    "print('m',m)"
   ]
  },
  {
   "cell_type": "markdown",
   "metadata": {},
   "source": [
    "## 函数的调用过程"
   ]
  },
  {
   "cell_type": "markdown",
   "metadata": {},
   "source": [
    "<font size=3.5 color=blue face=“微软雅黑”>定义后的函数不能直接运行，需要经过“调用”才能运行。调用函数的基本方法如下：</font >"
   ]
  },
  {
   "cell_type": "markdown",
   "metadata": {},
   "source": [
    "<font size=3 color=darkorange face=\"微软雅黑\"> <函数名>(<实际赋值参数列表>)</font>"
   ]
  },
  {
   "cell_type": "markdown",
   "metadata": {},
   "source": [
    "<font size=3.5 color=darkblue face=“微软雅黑”> 函数的调用一般要执行以下四步：<br><br>\\* 调用程序在调用处暂停执行。<br><br>\n",
    "\\* 在调用时将实参赋值给形参。<br><br>\n",
    "\\* 执行函数体语句。<br><br>\n",
    "\\* 函数调用给出返回值，程序回到调用前暂停处继续执行。\n",
    "</font>"
   ]
  },
  {
   "cell_type": "code",
   "execution_count": 9,
   "metadata": {},
   "outputs": [],
   "source": [
    "def add3(a,b):\n",
    "    c = 0\n",
    "    c = a + b\n",
    "    print ('加法函数已经被调用')\n",
    "    return c\n"
   ]
  },
  {
   "cell_type": "code",
   "execution_count": 10,
   "metadata": {},
   "outputs": [
    {
     "name": "stdout",
     "output_type": "stream",
     "text": [
      "加法函数已经被调用\n",
      "8\n"
     ]
    }
   ],
   "source": [
    "m = 5\n",
    "print (m + add3(1,2))"
   ]
  },
  {
   "cell_type": "markdown",
   "metadata": {},
   "source": [
    "## lambda函数 "
   ]
  },
  {
   "cell_type": "markdown",
   "metadata": {},
   "source": [
    "<font size=3.5 color=blue face=“微软雅黑”>lambda是Python语言中定义匿名函数的保留字，匿名函数将函数名作为结果返回。</font >"
   ]
  },
  {
   "cell_type": "markdown",
   "metadata": {},
   "source": [
    "<font size=3 color=darkorange face=\"微软雅黑\"> <函数名> = lambda<参数列表>：<表达式></font>"
   ]
  },
  {
   "cell_type": "code",
   "execution_count": 16,
   "metadata": {},
   "outputs": [
    {
     "data": {
      "text/plain": [
       "2.0"
      ]
     },
     "execution_count": 16,
     "metadata": {},
     "output_type": "execute_result"
    }
   ],
   "source": [
    "func = lambda x,y,z: (x + y + z)/3\n",
    "func(1,2,3)"
   ]
  },
  {
   "cell_type": "markdown",
   "metadata": {},
   "source": [
    "# 函数的参数传递"
   ]
  },
  {
   "cell_type": "markdown",
   "metadata": {},
   "source": [
    "## 可选参数和可变量参数"
   ]
  },
  {
   "cell_type": "markdown",
   "metadata": {},
   "source": [
    "<font size=3.5 color=blue face=“微软雅黑”>函数的参数在定义时可以指定默认值，当函数被调用时，如果没有传入对应的参数值，则使用函数定义时的默认值替代，函数定义时的语法形式如下：</font >"
   ]
  },
  {
   "cell_type": "markdown",
   "metadata": {},
   "source": [
    "<font size=3 color=darkorange face=\"微软雅黑\"> def <函数名>(<非可选参数列表>, <可选参数> = <默认值>)：<br><br>&ensp;&ensp;&ensp;&ensp;<函数体><br><br>return <返回值列表></font>"
   ]
  },
  {
   "cell_type": "code",
   "execution_count": 22,
   "metadata": {},
   "outputs": [],
   "source": [
    "def avg_grade(name,x,y,z=60):\n",
    "    avg = round((x+y+z)/3,2)\n",
    "    print('{}的平均成绩为{}'.format(name,avg))"
   ]
  },
  {
   "cell_type": "code",
   "execution_count": 24,
   "metadata": {},
   "outputs": [
    {
     "name": "stdout",
     "output_type": "stream",
     "text": [
      "A的平均成绩为63.33\n"
     ]
    }
   ],
   "source": [
    "avg_grade('A',60,60,70)"
   ]
  },
  {
   "cell_type": "code",
   "execution_count": 25,
   "metadata": {},
   "outputs": [],
   "source": [
    "def add4(a=1,b=2):\n",
    "    c = 0\n",
    "    c = a + b\n",
    "    return c\n"
   ]
  },
  {
   "cell_type": "code",
   "execution_count": 35,
   "metadata": {},
   "outputs": [
    {
     "data": {
      "text/plain": [
       "2"
      ]
     },
     "execution_count": 35,
     "metadata": {},
     "output_type": "execute_result"
    }
   ],
   "source": [
    "add4(b=1)"
   ]
  },
  {
   "cell_type": "code",
   "execution_count": 8,
   "metadata": {},
   "outputs": [
    {
     "data": {
      "text/plain": [
       "10"
      ]
     },
     "execution_count": 8,
     "metadata": {},
     "output_type": "execute_result"
    }
   ],
   "source": [
    "add4(5,5)"
   ]
  },
  {
   "cell_type": "markdown",
   "metadata": {},
   "source": [
    "<td bgcolor=orange><font size=3 face=\"微软雅黑\"> 可选参数：放置在非可选参数的后面,用*号标识。</font></td>"
   ]
  },
  {
   "cell_type": "code",
   "execution_count": 38,
   "metadata": {},
   "outputs": [],
   "source": [
    "def add5(a,*b):\n",
    "    #print(type(b))\n",
    "    print('a=',a)\n",
    "    print('b=',b)\n",
    "    for i in b:\n",
    "        a = a + i\n",
    "    return a"
   ]
  },
  {
   "cell_type": "code",
   "execution_count": 39,
   "metadata": {},
   "outputs": [
    {
     "name": "stdout",
     "output_type": "stream",
     "text": [
      "a= 1\n",
      "b= (2, 3, 4, 5)\n"
     ]
    },
    {
     "data": {
      "text/plain": [
       "15"
      ]
     },
     "execution_count": 39,
     "metadata": {},
     "output_type": "execute_result"
    }
   ],
   "source": [
    "add5(1,2,3,4,5)"
   ]
  },
  {
   "cell_type": "code",
   "execution_count": 40,
   "metadata": {},
   "outputs": [],
   "source": [
    "def add6(*b):\n",
    "    a = 1\n",
    "    if len(b) > 0:\n",
    "        for i in b:\n",
    "            a = a * i\n",
    "    else:\n",
    "        a = 0\n",
    "    print (a)"
   ]
  },
  {
   "cell_type": "code",
   "execution_count": 42,
   "metadata": {},
   "outputs": [
    {
     "name": "stdout",
     "output_type": "stream",
     "text": [
      "0\n"
     ]
    }
   ],
   "source": [
    "add6()"
   ]
  },
  {
   "cell_type": "markdown",
   "metadata": {},
   "source": [
    "<font size=3.5 color=red face=“微软雅黑”>思考：可选参数的数据类型？</font >"
   ]
  },
  {
   "cell_type": "markdown",
   "metadata": {},
   "source": [
    "## 参数的位置和名称传递 "
   ]
  },
  {
   "cell_type": "markdown",
   "metadata": {},
   "source": [
    "<font size=3.5 color=blue face=“微软雅黑”>Python语言同时支持函数按照参数名称方式传递参数，语法形式如下：</font >"
   ]
  },
  {
   "cell_type": "markdown",
   "metadata": {},
   "source": [
    "<font size=3 color=darkorange face=\"微软雅黑\"> <函数名>(<参数名> = <实际值>)</font>"
   ]
  },
  {
   "cell_type": "code",
   "execution_count": 43,
   "metadata": {},
   "outputs": [],
   "source": [
    "def minus(a,b):\n",
    "    return a - b"
   ]
  },
  {
   "cell_type": "code",
   "execution_count": 44,
   "metadata": {},
   "outputs": [
    {
     "data": {
      "text/plain": [
       "1"
      ]
     },
     "execution_count": 44,
     "metadata": {},
     "output_type": "execute_result"
    }
   ],
   "source": [
    "minus(3,2)"
   ]
  },
  {
   "cell_type": "code",
   "execution_count": 45,
   "metadata": {},
   "outputs": [
    {
     "data": {
      "text/plain": [
       "-1"
      ]
     },
     "execution_count": 45,
     "metadata": {},
     "output_type": "execute_result"
    }
   ],
   "source": [
    "minus(2,3)"
   ]
  },
  {
   "cell_type": "code",
   "execution_count": 46,
   "metadata": {},
   "outputs": [
    {
     "data": {
      "text/plain": [
       "1"
      ]
     },
     "execution_count": 46,
     "metadata": {},
     "output_type": "execute_result"
    }
   ],
   "source": [
    "minus(b=2,a=3)"
   ]
  },
  {
   "cell_type": "markdown",
   "metadata": {},
   "source": [
    "<font size=3.5 color=red face=“微软雅黑”>指定参数名称后可以改变实际参数传值顺序</font >"
   ]
  },
  {
   "cell_type": "markdown",
   "metadata": {},
   "source": [
    "## 函数的返回值 "
   ]
  },
  {
   "cell_type": "markdown",
   "metadata": {},
   "source": [
    "<font size=3.5 color=blue face=“微软雅黑”>return语句用来结束函数并将程序返回到函数被调用的位置继续执行。return语句可以出现在函数中的任何部分，同时可以将0个、1个或多个函数运算的结果返回给函数被调用处的变量。</font >"
   ]
  },
  {
   "cell_type": "code",
   "execution_count": 47,
   "metadata": {},
   "outputs": [],
   "source": [
    "def test(grade):\n",
    "    if grade >= 90:\n",
    "        return 'A'\n",
    "    elif grade >= 80:\n",
    "        return 'B'\n",
    "    elif grade >= 70:\n",
    "        return 'C'\n",
    "    elif grade >= 60:\n",
    "        return 'D'\n",
    "    else:\n",
    "        return 'E'"
   ]
  },
  {
   "cell_type": "code",
   "execution_count": 49,
   "metadata": {},
   "outputs": [
    {
     "data": {
      "text/plain": [
       "'D'"
      ]
     },
     "execution_count": 49,
     "metadata": {},
     "output_type": "execute_result"
    }
   ],
   "source": [
    "test(60)"
   ]
  },
  {
   "cell_type": "markdown",
   "metadata": {},
   "source": [
    "<font size=3.5 color=red face=“微软雅黑”>思考：return语句可以在函数中出现多次。这种说法对吗？</font >"
   ]
  },
  {
   "cell_type": "code",
   "execution_count": 50,
   "metadata": {},
   "outputs": [],
   "source": [
    "def test_add_minus(a,b):\n",
    "    return a+b, a-b"
   ]
  },
  {
   "cell_type": "code",
   "execution_count": 51,
   "metadata": {},
   "outputs": [
    {
     "data": {
      "text/plain": [
       "(9, -1)"
      ]
     },
     "execution_count": 51,
     "metadata": {},
     "output_type": "execute_result"
    }
   ],
   "source": [
    "test_add_minus(4,5)"
   ]
  },
  {
   "cell_type": "markdown",
   "metadata": {},
   "source": [
    "<font size=3.5 color=red face=“微软雅黑”>思考：return返回多个值的时候，数据类型是什么？</font >"
   ]
  },
  {
   "cell_type": "markdown",
   "metadata": {},
   "source": [
    "<font size=3.5 color=red face=“微软雅黑”>练习：定义一个函数，对任意一个给定整数判断其奇偶性，及其阶乘，并将结果返回。</font >"
   ]
  },
  {
   "cell_type": "code",
   "execution_count": 4,
   "metadata": {},
   "outputs": [],
   "source": [
    "import math as ma\n",
    "\n",
    "def func_name(x):\n",
    "    m = ma.factorial(x)\n",
    "    n = ''\n",
    "    if x % 2 == 0:\n",
    "        n = '偶数'\n",
    "    else:\n",
    "        n = '奇数'\n",
    "        print('m:',m)\n",
    "    return m,n"
   ]
  },
  {
   "cell_type": "code",
   "execution_count": 5,
   "metadata": {},
   "outputs": [
    {
     "name": "stdout",
     "output_type": "stream",
     "text": [
      "m: 6\n"
     ]
    },
    {
     "ename": "NameError",
     "evalue": "name 'm' is not defined",
     "output_type": "error",
     "traceback": [
      "\u001b[1;31m---------------------------------------------------------------------------\u001b[0m",
      "\u001b[1;31mNameError\u001b[0m                                 Traceback (most recent call last)",
      "\u001b[1;32m<ipython-input-5-c90e6792b2a6>\u001b[0m in \u001b[0;36m<module>\u001b[1;34m()\u001b[0m\n\u001b[0;32m      1\u001b[0m \u001b[0mx\u001b[0m\u001b[1;33m,\u001b[0m\u001b[0my\u001b[0m \u001b[1;33m=\u001b[0m \u001b[0mfunc_name\u001b[0m\u001b[1;33m(\u001b[0m\u001b[1;36m3\u001b[0m\u001b[1;33m)\u001b[0m\u001b[1;33m\u001b[0m\u001b[0m\n\u001b[1;32m----> 2\u001b[1;33m \u001b[0mx\u001b[0m\u001b[1;33m,\u001b[0m\u001b[0my\u001b[0m\u001b[1;33m,\u001b[0m\u001b[0mm\u001b[0m\u001b[1;33m\u001b[0m\u001b[0m\n\u001b[0m",
      "\u001b[1;31mNameError\u001b[0m: name 'm' is not defined"
     ]
    }
   ],
   "source": [
    "z = 3\n",
    "x,y = func_name(z)\n",
    "x,y,m"
   ]
  },
  {
   "cell_type": "markdown",
   "metadata": {},
   "source": [
    "## 函数对变量的作用 "
   ]
  },
  {
   "cell_type": "markdown",
   "metadata": {},
   "source": [
    "<font size=3.5 color=blue face=“微软雅黑”> 根据程序中变量所在的位置和作用范围，变量分为<mark>局部<br><br>变量</mark>和<mark>全局变量</mark>。</font >"
   ]
  },
  {
   "cell_type": "markdown",
   "metadata": {},
   "source": [
    "<font size=3.5 color=blue face=“微软雅黑”> 局部变量仅在函数内部，且作用域也在函数内部，全局变量的作用域跨越多个函数。</font >"
   ]
  },
  {
   "cell_type": "markdown",
   "metadata": {},
   "source": [
    "<td bgcolor=orange><font size=3 face=\"微软雅黑\"> 局部变量：</font></td>"
   ]
  },
  {
   "cell_type": "markdown",
   "metadata": {},
   "source": [
    "<font size=3.5 color=darkbrown face=“微软雅黑”>局部变量指在函数内部使用的变量，仅在函数内部有效，当函数退出时变量将不再存在。</font >"
   ]
  },
  {
   "cell_type": "code",
   "execution_count": 7,
   "metadata": {},
   "outputs": [
    {
     "name": "stdout",
     "output_type": "stream",
     "text": [
      "11\n"
     ]
    }
   ],
   "source": [
    "def test_add(x,y=10):\n",
    "    z = 0\n",
    "    z = x + y\n",
    "    return z\n",
    "print (test_add(2,9))"
   ]
  },
  {
   "cell_type": "code",
   "execution_count": 8,
   "metadata": {},
   "outputs": [
    {
     "ename": "NameError",
     "evalue": "name 'z' is not defined",
     "output_type": "error",
     "traceback": [
      "\u001b[1;31m---------------------------------------------------------------------------\u001b[0m",
      "\u001b[1;31mNameError\u001b[0m                                 Traceback (most recent call last)",
      "\u001b[1;32m<ipython-input-8-79102c64614c>\u001b[0m in \u001b[0;36m<module>\u001b[1;34m()\u001b[0m\n\u001b[1;32m----> 1\u001b[1;33m \u001b[0mprint\u001b[0m \u001b[1;33m(\u001b[0m\u001b[0mz\u001b[0m\u001b[1;33m)\u001b[0m\u001b[1;33m\u001b[0m\u001b[0m\n\u001b[0m",
      "\u001b[1;31mNameError\u001b[0m: name 'z' is not defined"
     ]
    }
   ],
   "source": [
    "print (z)"
   ]
  },
  {
   "cell_type": "markdown",
   "metadata": {},
   "source": [
    "<td bgcolor=orange><font size=3 face=\"微软雅黑\"> 全局变量：</font></td>"
   ]
  },
  {
   "cell_type": "markdown",
   "metadata": {},
   "source": [
    "<font size=3.5 color=darkbrown face=“微软雅黑”>全局变量指在函数之外定义的变量，在程序执行\n",
    "全过程有效，格式如下。</font >"
   ]
  },
  {
   "cell_type": "markdown",
   "metadata": {},
   "source": [
    "<font size=3 color=darkorange face=\"微软雅黑\"> global <全局变量>\n",
    "</font>"
   ]
  },
  {
   "cell_type": "code",
   "execution_count": 13,
   "metadata": {},
   "outputs": [
    {
     "name": "stdout",
     "output_type": "stream",
     "text": [
      "11\n",
      "1\n"
     ]
    }
   ],
   "source": [
    "global z \n",
    "z = 1\n",
    "def test_add(x,y=10):\n",
    "    #global z\n",
    "    z = x + y\n",
    "    return z\n",
    "print (test_add(2,9))\n",
    "print (z)"
   ]
  },
  {
   "cell_type": "code",
   "execution_count": 14,
   "metadata": {},
   "outputs": [
    {
     "name": "stdout",
     "output_type": "stream",
     "text": [
      "11\n",
      "11\n"
     ]
    }
   ],
   "source": [
    "def test_add(x,y=10):\n",
    "    global z\n",
    "    z = 0\n",
    "    z = x + y\n",
    "    return z\n",
    "print (test_add(2,9))\n",
    "print (z)"
   ]
  },
  {
   "cell_type": "code",
   "execution_count": 6,
   "metadata": {},
   "outputs": [
    {
     "name": "stdout",
     "output_type": "stream",
     "text": [
      "10\n",
      "0\n"
     ]
    }
   ],
   "source": [
    "z = 0\n",
    "def test_add(x,y=10):\n",
    "    #global z\n",
    "    z = x + y\n",
    "    return z\n",
    "print (test_add(1,9))\n",
    "print (z)"
   ]
  },
  {
   "cell_type": "markdown",
   "metadata": {},
   "source": [
    "# 代码复用和模块化设计"
   ]
  },
  {
   "cell_type": "markdown",
   "metadata": {},
   "source": [
    "<font size=3.5 color=blue face=“微软雅黑”> 函数是程序的一种基本抽象方式，它将一系列代码组织起来通过命名供其他程序使用。</font >"
   ]
  },
  {
   "cell_type": "markdown",
   "metadata": {},
   "source": [
    "<font size=3.5 color=darkbrown face=“微软雅黑”> 函数封装的直接好处是<mark>代码复用</mark>:<br><br>\n",
    "\\* 任何其他代码只要输入参数即可调用函数，从而避免相同功能代码在被调用处重复编写。<br><br>\n",
    "\\* 当更新函数功能时，所有被调用处的功能都被更新。</font >"
   ]
  },
  {
   "cell_type": "markdown",
   "metadata": {},
   "source": [
    "<td bgcolor=orange><font size=3 face=\"微软雅黑\"> 模块化设计 </font></td>"
   ]
  },
  {
   "cell_type": "markdown",
   "metadata": {},
   "source": [
    "<font size=3.5 color=darkbrown face=“微软雅黑”>\\* 指通过函数的封装功能将程序划分成主程序、子程序和子程序间关系的表达。<br><br>\n",
    "\\* 使用函数设计程序的思考方法，以功能块为基本单位。<br><br>\n",
    "\\* 模块间的关系一般有两个基本要求：<br><br>\n",
    "<font size=2.5 color='000099' face=“微软雅黑”>&ensp;&ensp;&ensp;&ensp;# <mark>紧耦合</mark>：尽可能合理划分功能块，功能块内部耦合紧密;<br><br>\n",
    "&ensp;&ensp;&ensp;&ensp;# <mark>松耦合</mark>：模块间关系尽可能简单，功能块之间耦合度低。</font>\n",
    "</font >"
   ]
  },
  {
   "cell_type": "markdown",
   "metadata": {},
   "source": [
    "# 函数递归*"
   ]
  },
  {
   "cell_type": "code",
   "execution_count": 32,
   "metadata": {},
   "outputs": [
    {
     "name": "stdout",
     "output_type": "stream",
     "text": [
      "6\n"
     ]
    }
   ],
   "source": [
    "m = 3\n",
    "s = 1\n",
    "while True:\n",
    "    if m == 0:\n",
    "        break\n",
    "    s = s * m\n",
    "    m = m - 1\n",
    "print(s)"
   ]
  },
  {
   "cell_type": "markdown",
   "metadata": {},
   "source": [
    "<td bgcolor=orange><font size=3 face=\"微软雅黑\">函数定义中调用自身形成递归</font></td>"
   ]
  },
  {
   "cell_type": "markdown",
   "metadata": {},
   "source": [
    "## 递归的定义"
   ]
  },
  {
   "cell_type": "markdown",
   "metadata": {},
   "source": [
    "<font size=3.5 color=blue face=“微软雅黑”> 函数作为一种代码的封装，能够被其他函数调用，自然也可以被自身调用，这种调用方式称为递归。</font >"
   ]
  },
  {
   "cell_type": "markdown",
   "metadata": {},
   "source": [
    "<td bgcolor=orange><font size=3 face=\"微软雅黑\">数学中经典递归例子是阶乘。</font></td>"
   ]
  },
  {
   "cell_type": "markdown",
   "metadata": {},
   "source": [
    "## 递归的使用"
   ]
  },
  {
   "cell_type": "code",
   "execution_count": 33,
   "metadata": {},
   "outputs": [],
   "source": [
    "#例1 求阶乘\n",
    "def fun(n):\n",
    "    if n == 0:\n",
    "        return 1\n",
    "    else:\n",
    "        return n * fun(n-1)"
   ]
  },
  {
   "cell_type": "code",
   "execution_count": 35,
   "metadata": {},
   "outputs": [
    {
     "name": "stdout",
     "output_type": "stream",
     "text": [
      "24\n"
     ]
    }
   ],
   "source": [
    "print (fun(4))"
   ]
  },
  {
   "cell_type": "code",
   "execution_count": 36,
   "metadata": {},
   "outputs": [],
   "source": [
    "# 例2 字符串反转\n",
    "def fun1(s):\n",
    "    if s == '':\n",
    "        return s\n",
    "    else:\n",
    "        return fun1(s[1:]) + s[0]\n",
    "    "
   ]
  },
  {
   "cell_type": "code",
   "execution_count": 39,
   "metadata": {},
   "outputs": [
    {
     "name": "stdout",
     "output_type": "stream",
     "text": [
      "klub\n"
     ]
    }
   ],
   "source": [
    "print (fun1('bulk'))"
   ]
  },
  {
   "cell_type": "code",
   "execution_count": 43,
   "metadata": {},
   "outputs": [
    {
     "name": "stdout",
     "output_type": "stream",
     "text": [
      "-10\n",
      "-9\n",
      "-8\n",
      "-7\n",
      "-6\n",
      "-5\n",
      "-4\n",
      "-3\n",
      "-2\n",
      "-1\n"
     ]
    }
   ],
   "source": [
    "s=\n",
    "for i in range(-len(s),0,1):\n",
    "    print(i)"
   ]
  },
  {
   "cell_type": "markdown",
   "metadata": {},
   "source": [
    "<td bgcolor=orange><font size=3 face=\"微软雅黑\">注意基例的使用。</font></td>"
   ]
  },
  {
   "cell_type": "markdown",
   "metadata": {},
   "source": [
    "# Python内置函数"
   ]
  },
  {
   "cell_type": "markdown",
   "metadata": {},
   "source": [
    "https://www.runoob.com/python/python-built-in-functions.html"
   ]
  },
  {
   "attachments": {
    "python%E5%86%85%E7%BD%AE%E5%87%BD%E6%95%B0.JPG": {
     "image/jpeg": "[encoded data removed]"
    }
   },
   "cell_type": "markdown",
   "metadata": {},
   "source": [
    "![python%E5%86%85%E7%BD%AE%E5%87%BD%E6%95%B0.JPG](attachment:python%E5%86%85%E7%BD%AE%E5%87%BD%E6%95%B0.JPG)"
   ]
  },
  {
   "cell_type": "code",
   "execution_count": 15,
   "metadata": {},
   "outputs": [
    {
     "name": "stdout",
     "output_type": "stream",
     "text": [
      "True False False False\n",
      "True True True True\n"
     ]
    }
   ],
   "source": [
    "# 仅介绍部分内置函数的使用，其它函数的使用在后续学习中会陆续用到\n",
    "ls = [1,2,'1']\n",
    "ls1 = [0,1,2]\n",
    "ls2 = ['',1,2]\n",
    "ls3 = [[],1,2]\n",
    "print (all(ls),all(ls1),all(ls2),all(ls3))\n",
    "print(any(ls),any(ls1),any(ls2),any(ls3))"
   ]
  },
  {
   "cell_type": "code",
   "execution_count": 17,
   "metadata": {},
   "outputs": [
    {
     "data": {
      "text/plain": [
       "True"
      ]
     },
     "execution_count": 17,
     "metadata": {},
     "output_type": "execute_result"
    }
   ],
   "source": [
    "ls4 = [[],'8',0]\n",
    "any(ls4)"
   ]
  },
  {
   "cell_type": "markdown",
   "metadata": {},
   "source": [
    "思考：函数all()和any()的作用。"
   ]
  },
  {
   "cell_type": "code",
   "execution_count": 18,
   "metadata": {},
   "outputs": [
    {
     "name": "stdout",
     "output_type": "stream",
     "text": [
      "-6614535006480212132\n",
      "-6795238264619995527\n"
     ]
    }
   ],
   "source": [
    "print (hash('Hello, Python'))\n",
    "\n",
    "print (hash('人生苦短，我用Python'))\n"
   ]
  },
  {
   "cell_type": "code",
   "execution_count": 19,
   "metadata": {},
   "outputs": [
    {
     "name": "stdout",
     "output_type": "stream",
     "text": [
      "1364785036848\n",
      "1364784848432\n"
     ]
    }
   ],
   "source": [
    "print (id('Hello, Python'))\n",
    "print (id('人生苦短，我用Python'))"
   ]
  },
  {
   "cell_type": "markdown",
   "metadata": {},
   "source": [
    "思考：函数hash()和id()的作用。"
   ]
  },
  {
   "cell_type": "code",
   "execution_count": 20,
   "metadata": {},
   "outputs": [
    {
     "name": "stdout",
     "output_type": "stream",
     "text": [
      "[4, 3, 5, 1]\n",
      "[1, 3, 4, 5]\n",
      "[5, 4, 3, 1]\n"
     ]
    }
   ],
   "source": [
    "l = [1,5,3,4]\n",
    "t = reversed(l)\n",
    "print (list(t))\n",
    "print (sorted(l))\n",
    "print (sorted(l,reverse=True))"
   ]
  },
  {
   "cell_type": "markdown",
   "metadata": {},
   "source": [
    "思考：reversed(), sorted()的作用。"
   ]
  },
  {
   "cell_type": "code",
   "execution_count": null,
   "metadata": {},
   "outputs": [],
   "source": [
    "#type()"
   ]
  },
  {
   "cell_type": "markdown",
   "metadata": {},
   "source": [
    "# 综合练习"
   ]
  },
  {
   "cell_type": "code",
   "execution_count": 58,
   "metadata": {},
   "outputs": [
    {
     "name": "stdout",
     "output_type": "stream",
     "text": [
      "           人生得意须尽欢            \n",
      "           莫使金樽空对月            \n",
      "           天生我材必有用            \n",
      "           千金散尽还复来            \n",
      "                              \n"
     ]
    }
   ],
   "source": [
    "txt = '''人生得意须尽欢，莫使金樽空对月。天生我材必有用，千金散尽还复来。''' \n",
    "\n",
    "linewidth = 30     # 预定的输出宽度   \n",
    "def lineSplit(line):\n",
    "    plist = ['，','。']\n",
    "    for p in plist:\n",
    "        line = line.replace(p, '#')\n",
    "    return line.split('#')\n",
    "    \n",
    "def linePrint(line):\n",
    "    global linewidth\n",
    "    print(line.center(linewidth))\n",
    "    \n",
    "    \n",
    "newlines = lineSplit(txt)\n",
    "#print (newlines)\n",
    "for newline in newlines:\n",
    "    linePrint(newline)\n",
    "    "
   ]
  },
  {
   "cell_type": "markdown",
   "metadata": {},
   "source": [
    "# 类和对象"
   ]
  },
  {
   "cell_type": "markdown",
   "metadata": {},
   "source": [
    "## 类和对象的概念 "
   ]
  },
  {
   "cell_type": "markdown",
   "metadata": {},
   "source": [
    "<font size=3 color=blue face=“微软雅黑”>* Python是一门面向对象的语言，本节我们将详细介绍Python的面向对象编程。</font >"
   ]
  },
  {
   "cell_type": "markdown",
   "metadata": {},
   "source": [
    "<td bgcolor=orange><font size=3 face=\"微软雅黑\">（1）类：用来描述具有相同的属性和方法的对象的集合。</font></td>"
   ]
  },
  {
   "cell_type": "markdown",
   "metadata": {},
   "source": [
    "<td bgcolor=orange><font size=3 face=\"微软雅黑\">（2）对象：通过类定义的数据结构实例，类变量和实例变量。</font></td>"
   ]
  },
  {
   "cell_type": "markdown",
   "metadata": {},
   "source": [
    "<td bgcolor=orange><font size=3 face=\"微软雅黑\">（3）实例化：创建一个类的实例，即类的具体对象。</font></td>"
   ]
  },
  {
   "cell_type": "markdown",
   "metadata": {},
   "source": [
    "<font size=2.5 color=darkbrown face=“微软雅黑”> 例子：人可以看作是一个类，具体的每个人都是这个类的实例。<br><br>理解一下这句话“白菜是菜，而菜不是白菜。”，类：？，对象：？</font >"
   ]
  },
  {
   "cell_type": "markdown",
   "metadata": {},
   "source": [
    "## 类和对象的基本特征 "
   ]
  },
  {
   "cell_type": "markdown",
   "metadata": {},
   "source": [
    "<font size=3 color=blue face=“微软雅黑”>* 类和对象使用过程中，还会涉及一些基本概念。</font >"
   ]
  },
  {
   "cell_type": "markdown",
   "metadata": {},
   "source": [
    "<td bgcolor=orange><font size=3 face=\"微软雅黑\">（1）类变量：类变量在整个实例化的对象中是公用的。</font></td>"
   ]
  },
  {
   "cell_type": "markdown",
   "metadata": {},
   "source": [
    "<td bgcolor=orange><font size=3 face=\"微软雅黑\">（2）实例变量：在类的声明中，属性是用变量来表示的。</font></td>"
   ]
  },
  {
   "cell_type": "markdown",
   "metadata": {},
   "source": [
    "<td bgcolor=orange><font size=3 face=\"微软雅黑\">（3）局部变量：定义在方法中的变量，只作用于当前实例的类。</font></td>"
   ]
  },
  {
   "cell_type": "markdown",
   "metadata": {},
   "source": [
    "<td bgcolor=orange><font size=3 face=\"微软雅黑\">（4）方法重写：对父类方法对重写，也叫覆盖。</font></td>"
   ]
  },
  {
   "cell_type": "markdown",
   "metadata": {},
   "source": [
    "<td bgcolor=orange><font size=3 face=\"微软雅黑\">（5）继承：一个派生类继承基类的字段和方法（is-a）。</font></td>"
   ]
  },
  {
   "cell_type": "markdown",
   "metadata": {},
   "source": [
    "<font size=2.5 color=darkbrown face=“微软雅黑”> 例子1：人可以看作是一个类，具有一个属性是肤色。<br><br>亚洲人可以看作是一类，黄色的肤色是该类的属性。<br><br>比较一下这两个类属性差异。<br><br></font >"
   ]
  },
  {
   "cell_type": "markdown",
   "metadata": {},
   "source": [
    "<font size=2.5 color=darkbrown face=“微软雅黑”> 例子2：“Dog is a Animal”中类和实例各是？<br><br>动物的叫声假如看作是一个方法的话，显然不同动物的叫声是不同的，那么在实例化的过程中我们需要改写<mark>叫声</mark>这一方法。\n",
    "<br><br>\n",
    "扩展：假如把dog看作是类并且存在叫声的方法，由此产生的实例叫声是相同的，即继承了基类的方法。<br><br>Tips：父类和子类</font >"
   ]
  },
  {
   "cell_type": "markdown",
   "metadata": {},
   "source": [
    "## 类的定义及使用"
   ]
  },
  {
   "cell_type": "markdown",
   "metadata": {},
   "source": [
    "<font size=3 color=blue face=“微软雅黑”>* 类的定义及实例化。</font >"
   ]
  },
  {
   "cell_type": "markdown",
   "metadata": {},
   "source": [
    "<td bgcolor=orange><font size=3 face=\"微软雅黑\">class 类名([父类名称])</font></td>"
   ]
  },
  {
   "cell_type": "markdown",
   "metadata": {},
   "source": [
    "<td bgcolor=orange><font size=3 face=\"微软雅黑\">实例名 = 类名()</font></td>"
   ]
  },
  {
   "cell_type": "code",
   "execution_count": 22,
   "metadata": {},
   "outputs": [],
   "source": [
    "#例1：定义一个Animal类，具有一个皮毛属性，\n",
    "#同时具有一个坐下的方法\n",
    "\n",
    "class Animal():\n",
    "    fur = 1       #这里用整数表动物是否有皮毛，即0表示没有，1表示有\n",
    "    def sit(self):\n",
    "        print (self.name + \" is sitting!\")"
   ]
  },
  {
   "cell_type": "code",
   "execution_count": 24,
   "metadata": {},
   "outputs": [
    {
     "name": "stdout",
     "output_type": "stream",
     "text": [
      "1\n",
      "0\n"
     ]
    },
    {
     "data": {
      "text/plain": [
       "1"
      ]
     },
     "execution_count": 24,
     "metadata": {},
     "output_type": "execute_result"
    }
   ],
   "source": [
    "a1 = Animal()\n",
    "print (a1.fur)\n",
    "a1.fur = 0\n",
    "print(a1.fur)\n",
    "b1 = Animal()\n",
    "b1.fur"
   ]
  },
  {
   "cell_type": "code",
   "execution_count": 26,
   "metadata": {},
   "outputs": [
    {
     "name": "stdout",
     "output_type": "stream",
     "text": [
      "aaa is sitting!\n",
      "bbb is sitting!\n"
     ]
    },
    {
     "data": {
      "text/plain": [
       "(None, None)"
      ]
     },
     "execution_count": 26,
     "metadata": {},
     "output_type": "execute_result"
    }
   ],
   "source": [
    "a1.name = 'aaa'\n",
    "b1.name = 'bbb'\n",
    "a1.sit(),b1.sit()"
   ]
  },
  {
   "cell_type": "code",
   "execution_count": 28,
   "metadata": {},
   "outputs": [],
   "source": [
    "#例2：从Animal类中派生出一个Cat类，\n",
    "#Cat类具有自己的方法，叫声mew\n",
    "\n",
    "class Cat(Animal):\n",
    "    def __init__(self,name):\n",
    "        self.name = name\n",
    "    def mew(self):\n",
    "        print (self.name + \"喵喵叫。\")"
   ]
  },
  {
   "cell_type": "code",
   "execution_count": 29,
   "metadata": {},
   "outputs": [
    {
     "name": "stdout",
     "output_type": "stream",
     "text": [
      "snowy is sitting!\n",
      "snowy喵喵叫。\n",
      "snowy  fur is  1\n"
     ]
    }
   ],
   "source": [
    "mycat = Cat('snowy')\n",
    "mycat.sit()        #sit()方法继承于Animal类\n",
    "mycat.mew()        #mew()方法为新添加的叫声方法\n",
    "print (mycat.name,' fur is ',mycat.fur)"
   ]
  },
  {
   "cell_type": "code",
   "execution_count": 30,
   "metadata": {},
   "outputs": [],
   "source": [
    "#例3：从Animal类中派生出一个Dog类，\n",
    "#Dog类具有自己的方法，叫声cry，重写sit()方法\n",
    "class Dog(Animal):\n",
    "    def __init__(self,name):\n",
    "        self.name = name\n",
    "    def sit(self):\n",
    "        print (self.name + \" is sitting! overwrite\")\n",
    "    def cry(self):\n",
    "        print (self.name + \"汪汪叫。\")"
   ]
  },
  {
   "cell_type": "code",
   "execution_count": 31,
   "metadata": {},
   "outputs": [
    {
     "name": "stdout",
     "output_type": "stream",
     "text": [
      "black pearl is sitting! overwrite\n",
      "black pearl汪汪叫。\n",
      "my dog name is  black pearl\n"
     ]
    }
   ],
   "source": [
    "mydog = Dog(\"black pearl\")\n",
    "mydog.sit()\n",
    "mydog.cry()\n",
    "print ('my dog name is ',mydog.name)"
   ]
  },
  {
   "cell_type": "markdown",
   "metadata": {},
   "source": [
    "<font size=2.5 color=darkbrown face=“微软雅黑”> 注意：<mark>def \\__init__()</mark>称为构造方法或初始化方法。<br><br># 当创建了类的实例时就会调用构造方法。<br><br># self 代表类的实例，self在定义类的方法时是必须有的，虽然在调用时不必传入相应的参数。<br><br></font >"
   ]
  },
  {
   "cell_type": "markdown",
   "metadata": {},
   "source": [
    "# 知识导图"
   ]
  },
  {
   "attachments": {
    "%E7%AC%AC%E4%BA%94%E7%AB%A0%E7%9F%A5%E8%AF%86%E5%AF%BC%E5%9B%BE.jpg": {
     "image/jpeg": "[encoded data removed]"
    }
   },
   "cell_type": "markdown",
   "metadata": {},
   "source": [
    "![%E7%AC%AC%E4%BA%94%E7%AB%A0%E7%9F%A5%E8%AF%86%E5%AF%BC%E5%9B%BE.jpg](attachment:%E7%AC%AC%E4%BA%94%E7%AB%A0%E7%9F%A5%E8%AF%86%E5%AF%BC%E5%9B%BE.jpg)"
   ]
  },
  {
   "cell_type": "markdown",
   "metadata": {},
   "source": [
    "# 作业"
   ]
  },
  {
   "cell_type": "markdown",
   "metadata": {},
   "source": [
    "<font size=3.5 color=darkbrown face=“微软雅黑”> 修改综合练习，将linewidth变成函数返回值，值为文本中最长短句的长度。</font >"
   ]
  }
 ],
 "metadata": {
  "kernelspec": {
   "display_name": "Python 3",
   "language": "python",
   "name": "python3"
  },
  "language_info": {
   "codemirror_mode": {
    "name": "ipython",
    "version": 3
   },
   "file_extension": ".py",
   "mimetype": "text/x-python",
   "name": "python",
   "nbconvert_exporter": "python",
   "pygments_lexer": "ipython3",
   "version": "3.6.4"
  },
  "toc": {
   "base_numbering": 1,
   "nav_menu": {},
   "number_sections": true,
   "sideBar": true,
   "skip_h1_title": false,
   "title_cell": "Table of Contents",
   "title_sidebar": "Contents",
   "toc_cell": false,
   "toc_position": {
    "height": "calc(100% - 180px)",
    "left": "10px",
    "top": "150px",
    "width": "256px"
   },
   "toc_section_display": true,
   "toc_window_display": false
  }
 },
 "nbformat": 4,
 "nbformat_minor": 2
}
